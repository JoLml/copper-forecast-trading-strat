{
 "cells": [
  {
   "cell_type": "markdown",
   "id": "aaeba25a",
   "metadata": {},
   "source": [
    "# 🧪 Copper Forecast Strategy Demo\n",
    "\n",
    "This notebook demonstrates the results of a model-driven strategy that predicts future copper prices using machine learning (Random Forest). It compares the model-based cumulative return to a traditional buy-and-hold strategy over the same time period.\n",
    "\n",
    "We:\n",
    "- Load the backtest results from CSV files\n",
    "- Visualize cumulative returns\n",
    "- Compute final performance metrics\n",
    "\n",
    "This demo aims to provide a clear comparison between traditional passive exposure and model-driven active trading.\n"
   ]
  },
  {
   "cell_type": "code",
   "execution_count": null,
   "id": "b9119e72",
   "metadata": {
    "vscode": {
     "languageId": "plaintext"
    }
   },
   "outputs": [],
   "source": [
    "import pandas as pd\n",
    "import matplotlib.pyplot as plt\n",
    "\n"
   ]
  },
  {
   "cell_type": "code",
   "execution_count": null,
   "id": "05d05aa1",
   "metadata": {
    "vscode": {
     "languageId": "plaintext"
    }
   },
   "outputs": [],
   "source": [
    "# Load backtest results for the model-based strategy and market benchmark\n",
    "strategy = pd.read_csv(\"results/strategy_returns.csv\", parse_dates=[\"Date\"], index_col=\"Date\")\n",
    "market = pd.read_csv(\"results/market_returns.csv\", parse_dates=[\"Date\"], index_col=\"Date\")\n"
   ]
  },
  {
   "cell_type": "code",
   "execution_count": null,
   "id": "9b9a14dc",
   "metadata": {
    "vscode": {
     "languageId": "plaintext"
    }
   },
   "outputs": [],
   "source": [
    "# Plot cumulative returns of both strategies\n",
    "plt.figure(figsize=(12, 6))\n",
    "plt.plot(market, label=\"Market (Buy & Hold)\")\n",
    "plt.plot(strategy, label=\"Strategy (Model-based)\")\n",
    "\n",
    "# Add labels and legend\n",
    "plt.title(\"📈 Backtest - Copper Price Prediction Strategy\")\n",
    "plt.xlabel(\"Date\")\n",
    "plt.ylabel(\"Cumulative Return\")\n",
    "plt.legend()\n",
    "plt.grid(True)\n",
    "plt.tight_layout()\n",
    "plt.show()\n"
   ]
  },
  {
   "cell_type": "code",
   "execution_count": null,
   "id": "bebe90b6",
   "metadata": {
    "vscode": {
     "languageId": "plaintext"
    }
   },
   "outputs": [],
   "source": [
    "\n",
    "# Calculate and compare final cumulative returns\n",
    "strategy_return = (strategy.iloc[-1].values[0] - 1) * 100\n",
    "market_return = (market.iloc[-1].values[0] - 1) * 100\n",
    "\n",
    "print(f\"📊 Final Strategy Return: {strategy_return:.2f}%\")\n",
    "print(f\"📊 Final Market Return: {market_return:.2f}%\")\n",
    "\n",
    "\n"
   ]
  },
  {
   "cell_type": "code",
   "execution_count": null,
   "id": "c828c9fd",
   "metadata": {
    "vscode": {
     "languageId": "plaintext"
    }
   },
   "outputs": [],
   "source": [
    "import numpy as np\n",
    "\n",
    "# Compute daily returns\n",
    "strategy_daily = strategy.pct_change().dropna()\n",
    "market_daily = market.pct_change().dropna()\n",
    "\n",
    "# Assume risk-free rate is 0 for simplicity\n",
    "# Sharpe Ratio = mean(daily_return) / std(daily_return) * sqrt(252)\n",
    "strategy_sharpe = (strategy_daily.mean() / strategy_daily.std()) * np.sqrt(252)\n",
    "market_sharpe = (market_daily.mean() / market_daily.std()) * np.sqrt(252)\n",
    "\n",
    "print(f\"📈 Strategy Sharpe Ratio: {strategy_sharpe:.2f}\")\n",
    "print(f\"📉 Market Sharpe Ratio: {market_sharpe:.2f}\")\n"
   ]
  }
 ],
 "metadata": {
  "language_info": {
   "name": "python"
  }
 },
 "nbformat": 4,
 "nbformat_minor": 5
}
